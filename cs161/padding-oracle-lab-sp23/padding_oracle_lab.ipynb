{
 "cells": [
  {
   "cell_type": "markdown",
   "metadata": {
    "colab_type": "text",
    "id": "fmcfcXozUZH0"
   },
   "source": [
    "# CBC Padding Oracle Attack Lab\n",
    "\n",
    "_Contributors:_\n",
    "\n",
    "Summer 2020: Ryan Lehmkuhl, Ben Hoberman\n",
    "\n",
    "Fall 2021: Ben Hoberman, Peyrin Kao, EvanBot\n",
    "\n",
    "Spring 2021: Abel Yagubyan, Nicholas Ngai\n",
    "\n",
    "Fall 2022: Jeffrey Deng, Gene Pan, Nicholas Ngai"
   ]
  },
  {
   "cell_type": "markdown",
   "metadata": {},
   "source": [
    "# Introduction\n",
    "\n",
    "Trying to implement crypto schemes yourself can be very dangerous. In the words of Runa Sandvi, The New York Times senior director of information security, \"Asking why you should not roll your own crypto is a bit like asking why you should not design your own aircraft engine.\"\n",
    "\n",
    "While many of the concepts we've reviewed in class may seem intuitive and simple, even the subtlest leakage of information can completely compromise any hope for confidentiality.\n",
    "\n",
    "We will demonstrate this by completely decrypting a message encrypted with AES-CBC using a **padding oracle attack**."
   ]
  },
  {
   "cell_type": "markdown",
   "metadata": {
    "colab_type": "text",
    "id": "hIpYGDw9UZH3"
   },
   "source": [
    "# Setup\n",
    "\n",
    "Before you get started, run the following block to install packages needed for this notebook:"
   ]
  },
  {
   "cell_type": "code",
   "execution_count": null,
   "metadata": {
    "colab": {},
    "colab_type": "code",
    "id": "gLFSw7lBUZH6"
   },
   "outputs": [],
   "source": [
    "%pip install -r requirements.txt"
   ]
  },
  {
   "cell_type": "code",
   "execution_count": null,
   "metadata": {
    "colab": {},
    "colab_type": "code",
    "id": "4wrczNz-UZIN"
   },
   "outputs": [],
   "source": [
    "from IPython.display import clear_output\n",
    "from helpers import pkcs7_pad, xor_block\n",
    "from tests import test1, test2, test3, test4, test5"
   ]
  },
  {
   "cell_type": "markdown",
   "metadata": {
    "colab_type": "text",
    "id": "XBjxpP3aUZId"
   },
   "source": [
    "# Question 1: Padding\n",
    "\n",
    "Recall that the AES-128 block cipher can only encrypt 16-byte messages. This means that block chaining modes such as CBC mode require the message length to be a multiple of 16. If the message we want to encrypt is not a multiple of 16, we need to add padding.\n",
    "\n",
    "In lecture, we saw that some padding and de-padding algorithms lead to ambiguity over what your original message was. We also saw that the PKCS #7 padding algorithm (PKCS stands for Public Key Cryptography Standard) always returns your original message when de-padding.\n",
    "\n",
    "The PKCS #7 algorithm appends the number of padding bytes to the end of the message. For example, the message `PANCAKES` is padded to become:\n",
    "\n",
    "```\n",
    "  0   1   2   3   4   5   6   7      8      9     10     11     12     13     14     15\n",
    "'P' 'A' 'N' 'C' 'A' 'K' 'E' 'S' '\\x08' '\\x08' '\\x08' '\\x08' '\\x08' '\\x08' '\\x08' '\\x08'\n",
    "```\n",
    "\n",
    "**Note that if the message is a multiple of the block size, another block of all 16s (```0x10```) is added.**\n",
    "\n",
    "**Try replacing `msg` with some different messages to get a feel for how the padding algorithm works.**"
   ]
  },
  {
   "cell_type": "code",
   "execution_count": null,
   "metadata": {
    "colab": {},
    "colab_type": "code",
    "id": "ewekVTpYUZIf"
   },
   "outputs": [],
   "source": [
    "### TODO: Replace the message to see how it's padded\n",
    "msg = b\"FROM: Kaltupia HQ // TO: All branches\"\n",
    "\n",
    "# Pads the message and splits it into blocks\n",
    "padded_msg = pkcs7_pad(msg)\n",
    "plaintext = [msg[i:i + 16].decode() for i in range(0, len(msg), 16)]\n",
    "padded_plaintext = [padded_msg[i:i + 16] for i in range(0, len(padded_msg), 16)]\n",
    "\n",
    "# Prints everything - decodes the blocks of byte objects to strings\n",
    "print(f\"Plaintext without padding: {plaintext}\")\n",
    "print(f\"Length: {len(msg)}\")\n",
    "print(f\"Plaintext with padding: {[x.decode() for x in padded_plaintext]}\")\n",
    "print(f\"Length: {len(padded_msg)}\\n\")\n",
    "print(f\"Hex of padded message:\")\n",
    "for i in range(len(padded_plaintext)):\n",
    "    print(f\"Block {i}: \", \" \".join('0x{:02x}'.format(c) for c in padded_plaintext[i]))"
   ]
  },
  {
   "cell_type": "markdown",
   "metadata": {
    "colab_type": "text",
    "id": "pseldJtfMC1w"
   },
   "source": [
    "## 1.1\n",
    "\n",
    "In Q4.5, we thought about what happens to the padding if an attacker modifies the last byte of a padded plaintext message.\n",
    "\n",
    "**Below, choose a byte for the last byte of the padded message that will result in an invalid padding.**"
   ]
  },
  {
   "cell_type": "code",
   "execution_count": null,
   "metadata": {
    "colab": {},
    "colab_type": "code",
    "id": "qozdfg83UZIq"
   },
   "outputs": [],
   "source": [
    "# Length of this message: 43\n",
    "msg = b\"THIS IS A TEST! Let's see if padding works!\" # do not change this\n",
    "\n",
    "### TODO: Choose a last byte (written as a number) that makes the padding invalid\n",
    "invalid_last_byte = ...\n",
    "\n",
    "# Autograder\n",
    "test1(invalid_last_byte)"
   ]
  },
  {
   "cell_type": "markdown",
   "metadata": {
    "colab_type": "text",
    "id": "LdengaDGUZI0"
   },
   "source": [
    "## 1.2\n",
    "\n",
    "Also in Q4.5, we saw one way an attacker could change the last byte to a constant value that guarantees that the message has valid padding.\n",
    "\n",
    "**Below, give *two* different last bytes for the padded message which will cause `valid_pad` to return `True`.**"
   ]
  },
  {
   "cell_type": "code",
   "execution_count": null,
   "metadata": {
    "colab": {},
    "colab_type": "code",
    "id": "LLxMm5MkUZI2"
   },
   "outputs": [],
   "source": [
    "# Length of this message: 78\n",
    "msg = b\"As part of a new test, let's try to run a different input and see if it works!\"\n",
    "# do not change this\n",
    "\n",
    "### TODO: Choose two different last bytes (written as a number) that makes the padding valid\n",
    "valid_last_byte_1 = ... ### YOUR CODE HERE ###\n",
    "valid_last_byte_2 = ... ### YOUR CODE HERE ###\n",
    "\n",
    "# Autograder\n",
    "test2(valid_last_byte_1, valid_last_byte_2)"
   ]
  },
  {
   "cell_type": "markdown",
   "metadata": {},
   "source": [
    "# Question 2: Padding Oracles\n",
    "\n",
    "We now know why padding is important and how to implement it, but how can a faulty implementation break our crypto system? For this, recall the **padding oracle** from Homework 2.\n",
    "\n",
    "In cryptography, an oracle is a queryable 'black box' (a function with unknown inner-workings) which provides some piece of information which otherwise would not be available. For example, when we studied the IND-CPA game, the challenger acted as an **encryption oracle** since the adversary could query it on a given message and receive back a ciphertext without knowing how the encryption was done (i.e. which key was used). \n",
    "\n",
    "A padding oracle takes some ciphertext `c` as input, and returns `True` if the ciphertext (which is decrypted using the secret shared key) is properly padded and `False` otherwise. We've defined a function, `valid_pad` which acts as such a padding oracle for PKCS #7."
   ]
  },
  {
   "cell_type": "markdown",
   "metadata": {
    "colab_type": "text",
    "id": "joOyzPoQUZJA"
   },
   "source": [
    "Many real systems naturally act as padding oracles. Consider a web server which uses AES-CBC to encrypt communications between its clients (early versions of TLS did this). If a client sends a message with invalid padding, the exception might cause the web server to respond with something like:\n",
    "\n",
    "![An HTTP 500 status code on a web page, representing an internal server error](images/500.png)"
   ]
  },
  {
   "cell_type": "markdown",
   "metadata": {
    "colab_type": "text",
    "id": "a4gtFzV4UZJC"
   },
   "source": [
    "Why is this bad? At a fundamental level, the resulting error leaks information about the plaintext which should never be allowed in any cryptographic system. But come on... detecting incorrect padding can't be that bad? Right? **WRONG.** This simple leakage ends up completely destroying any hope for confidentiality with the encryption scheme. To see why, let's review how the CBC block chaining mode works."
   ]
  },
  {
   "cell_type": "markdown",
   "metadata": {
    "colab_type": "text",
    "id": "TYLVaKHJUZJD"
   },
   "source": [
    "Recall that decryption in CBC mode is as follows:\n",
    "\n",
    "![Block cipher diagram of CBC decryption](images/CBC-decrypt.png)"
   ]
  },
  {
   "cell_type": "markdown",
   "metadata": {
    "colab_type": "text",
    "id": "J_xQfD4kUZJK"
   },
   "source": [
    "## 2.1\n",
    "\n",
    "Assume that you have intercepted some ciphertext $(IV, C_1, C_2, \\ldots, C_n)$ and have access to a padding oracle. You have complete freedom with what you send the padding oracle (ie. a subset of the ciphertext blocks or something completely different). Whatever you send, the padding oracle will decrypt it **using the original symmetric key** and truthfully report whether it is padded correctly. For now, ignore all of the blocks except for the last block $C_n$.\n",
    "\n",
    "Notice the following property of CBC mode: When we XOR the second-to-last ciphertext block $C_{n - 1}$ with some value, that will cause the plaintext block $P_n$ to be XORed with that same value. That is to say, if we have some plaintext $P = (P_1, P_2, \\dots, P_n)$ and corresponding CBC ciphertext $C = (IV, C_1, C_2, \\dots, C_n)$, computing the decryption of $C' = (IV, C_1, C_2, \\dots, C_{n - 1} \\oplus x, C_n)$ will result in the decryption $P' = (P_1, P_2, \\dots, P'_{n - 1}, P_n \\oplus x)$. The second-to-last plaintext block $P'_{n - 1} = D_K(C_{n - 1} \\oplus x) \\oplus C_{n - 2}$ becomes gibberish, but the last plaintext block $P'_n = P_n \\oplus x$ is **malleable** in a predictable fashion.\n",
    "\n",
    "Since we have control over $C_{n - 1}$, we XOR the last byte of $C_{n - 1}$ with different values of $x$ until we find something that reports that the padding is correct. To achieve this, we want to to find some value for the last byte of $C_{n - 1}$ such that the last byte of $C_{n}$ ends up decrypting to `0x01`.\n",
    "\n",
    "**Why would this always result in a correct padding?**"
   ]
  },
  {
   "cell_type": "markdown",
   "metadata": {},
   "source": [
    "**<span style = \"color: red\">(YOUR ANSWER HERE)</span>**"
   ]
  },
  {
   "attachments": {},
   "cell_type": "markdown",
   "metadata": {},
   "source": [
    "## 2.2\n",
    "\n",
    "Once we find the value of $x$, this gives us the following equation:\n",
    "\n",
    "$$\n",
    "\\begin{aligned}\n",
    "P_n \\oplus x = \\texttt{0x01}\n",
    "\\end{aligned}\n",
    "$$\n",
    "\n",
    "**Leverage the padding oracle to find the correct value of $x$ such that the last byte of $C_n$ decrypts to `0x01`. Then, use knowledge of $x$ to recover the last byte of the last block of plaintext $P_n$**.\n",
    "\n",
    "_Hint: a brute force attack that only needs to try a small number of options is very fast. 256 is very small._\n",
    "\n",
    "_Hint: what is special about XOR'ing a `0x00` byte and how might this interact with the oracle?_"
   ]
  },
  {
   "cell_type": "code",
   "execution_count": null,
   "metadata": {
    "colab": {},
    "colab_type": "code",
    "id": "Cv2zkb3EUZJL"
   },
   "outputs": [],
   "source": [
    "def recover_last_byte(oracle, second_last_block, last_block):\n",
    "    \"\"\"\n",
    "    Code that finds the last byte of the last block of plaintext, given a\n",
    "    padding oracle and the final two blocks of ciphertext.\n",
    "\n",
    "    second_last_block: The second last block (C_{i-1}).\n",
    "    last_block: The last block (C_{i}).\n",
    "    \"\"\"\n",
    "    orig_last_byte = second_last_block[15]\n",
    "    for x in ...: ### YOUR CODE HERE ###\n",
    "        second_last_block[15] = ... ### YOUR CODE HERE ###\n",
    "        if oracle(second_last_block, last_block):\n",
    "            return ... ### YOUR CODE HERE ###\n",
    "    return ... ### YOUR CODE HERE ###\n",
    "\n",
    "test3(recover_last_byte)"
   ]
  },
  {
   "cell_type": "markdown",
   "metadata": {
    "colab_type": "text",
    "id": "Qr8xgpPVUZJx"
   },
   "source": [
    "## 2.3\n",
    "\n",
    "Once we find a valid last byte that causes the padding oracle to return true, we want to manipulate the last 2 bytes of the second-to-last-block such that the last 2 bytes of the last block end up decrypting to `0x02`, `0x02`.\n",
    "\n",
    "**Implement code that recovers the second-to-last-byte of the last block of plaintext $P_n$. Start by ensuring that the last byte of $C_n$ will decrypt to `0x02`, and then brute-force the second-to-last-byte.**"
   ]
  },
  {
   "cell_type": "code",
   "execution_count": null,
   "metadata": {
    "colab": {},
    "colab_type": "code",
    "id": "t0k0MrjUUZJ0"
   },
   "outputs": [],
   "source": [
    "def recover_second_last_byte(oracle, second_last_block, last_block):\n",
    "    \"\"\"\n",
    "    Code that finds the second-to-last byte of the last block of plaintext,\n",
    "    given a padding oracle and the final two blocks of ciphertext.\n",
    "\n",
    "    second_last_block: The second last block (C_{i-1}).\n",
    "    last_block: The last block (C_{i}).\n",
    "    \"\"\"\n",
    "    orig_second_last_byte, orig_last_byte = second_last_block[14], second_last_block[15]\n",
    "    second_last_block[15] = ... ### YOUR CODE HERE ###\n",
    "    for x in ...: ### YOUR CODE HERE ###\n",
    "        second_last_block[14] = ... ### YOUR CODE HERE ###\n",
    "        if oracle(second_last_block, last_block):\n",
    "             return ... ### YOUR CODE HERE ###\n",
    "\n",
    "# Autograder\n",
    "test4(recover_second_last_byte)"
   ]
  },
  {
   "cell_type": "markdown",
   "metadata": {
    "colab_type": "text",
    "id": "ipLhvCALUZKH"
   },
   "source": [
    "## 2.4\n",
    "\n",
    "Now, we can finally implement the full decryption.\n",
    "\n",
    "**Fill out the function below based on prior parts in order to successfully decrypt any CBC ciphertext block based on a padding oracle.**\n",
    "\n",
    "Remember that as you discover more of the message, the \"correct\" padding you need to enforce will change."
   ]
  },
  {
   "cell_type": "code",
   "execution_count": null,
   "metadata": {
    "colab": {},
    "colab_type": "code",
    "id": "FaN_NuzkUZKJ"
   },
   "outputs": [],
   "source": [
    "def decrypt_block(oracle, C_prev, C, display = False, tail = None):\n",
    "    \"\"\"\n",
    "    Recover plaintext P_n given ciphertext C_n, C_{n-1}, and a padding oracle.\n",
    "    Don't worry about the display or tail arguments -- they're for cool visualization later.\n",
    "\n",
    "    C: current block (the one we're solving for) of the ciphertext (C_i)\n",
    "    C_prev: last block of the cipher text (C_{i-1})\n",
    "    oracle: a function which returns whether (C_prev, C) are padded correctly\n",
    "    \"\"\"\n",
    "    orig_C_prev = bytearray(C_prev)\n",
    "    plaintext_block = bytearray(16) # Reconstructed plaintext (P from previous parts)\n",
    "\n",
    "    # Find the last byte of C using a previously written function.\n",
    "    plaintext_block[15] = recover_last_byte(oracle, C_prev, C)\n",
    "    \n",
    "    # Iterate over the block (starting at the second-to-last byte) from end to beginning.\n",
    "    for i in reversed(range(15)):\n",
    "        # Set the padding byte that the known bytes should be to guarantee correct padding\n",
    "        # What is the correct plaintext padding for a block which has n < 16 bytes of text?\n",
    "        padding_byte = ... ### YOUR CODE HERE ###\n",
    "        \n",
    "        # Set C_prev[i + 1] to C_prev[15] to the appropriate byte for the current padding.\n",
    "        for j in ...: ### YOUR CODE HERE ###\n",
    "            ### YOUR CODE HERE ###\n",
    "            pass\n",
    "        \n",
    "        # Brute-force C_prev[i].\n",
    "        for x in ...: ### YOUR CODE HERE ###\n",
    "            C_prev[i] = ... ### YOUR CODE HERE ###\n",
    "            if oracle(C_prev, C):\n",
    "                # Recover the ith byte of the plaintext block.\n",
    "                plaintext_block[i] = ... ### YOUR CODE HERE ###\n",
    "                \n",
    "                # Visualization code -- don't worry about it\n",
    "                if display:\n",
    "                    progress = plaintext_block.replace(b'\\x00', b' ')\n",
    "                    clear_output(wait=True)\n",
    "                    if tail is not None:\n",
    "                        progress = progress + tail\n",
    "                    print(f'Recovered so far: {progress}')\n",
    "                    \n",
    "                break\n",
    "    return plaintext_block\n",
    "\n",
    "# Autograder\n",
    "test5(decrypt_block)"
   ]
  },
  {
   "cell_type": "markdown",
   "metadata": {
    "colab_type": "text",
    "id": "R069S3XtUZKR"
   },
   "source": [
    "## Implementing the Attack\n",
    "\n",
    "`Chef Brown is a famous cook and it so happens that her IoT pancake maker hosts a central web application. This allows Brown to start the machine anywhere and arrive at the canteen to a fresh stack of pancakes. Brown read somewhere that her encryption scheme should not be deterministic, so she opted to use AES-CBC with a random IV and PKCS #7 padding.`"
   ]
  },
  {
   "cell_type": "markdown",
   "metadata": {
    "colab_type": "text",
    "id": "Kg8RJiKXUZKi"
   },
   "source": [
    "Let's put the full attack together and execute our attack against the padding oracle! We can directly use your work from previous parts to fill out the `decrypt` function below!"
   ]
  },
  {
   "cell_type": "code",
   "execution_count": null,
   "metadata": {
    "colab": {},
    "colab_type": "code",
    "id": "jiMiVK5VUZKl"
   },
   "outputs": [],
   "source": [
    "import recipe\n",
    "\n",
    "# No code you have to write in here :)\n",
    "def decrypt():\n",
    "    # Split the ciphertext into blocks\n",
    "    blocks = [recipe.iv] + [recipe.ciphertext[i:i + 16] for i in range(0, len(recipe.ciphertext), 16)]\n",
    "    # This stores our recovered plaintext\n",
    "    plaintext = [bytes(16) for _ in range(len(blocks))]\n",
    "\n",
    "    # Recover each block and byte in reverse order\n",
    "    for i in reversed(range(1, len(blocks))):\n",
    "        C_prev = bytearray(blocks[i - 1])\n",
    "        C = bytearray(blocks[i])\n",
    "        plaintext[i] = decrypt_block(recipe.oracle, C_prev, C, True, b''.join(plaintext[i+1:]))\n",
    "    \n",
    "    return b''.join(plaintext[1:]).decode()"
   ]
  },
  {
   "cell_type": "markdown",
   "metadata": {
    "colab_type": "text",
    "id": "ABnWgOWGUZKs"
   },
   "source": [
    "Run your attack:"
   ]
  },
  {
   "cell_type": "code",
   "execution_count": null,
   "metadata": {
    "colab": {},
    "colab_type": "code",
    "id": "oXcIfB53UZKt",
    "scrolled": true
   },
   "outputs": [],
   "source": [
    "print(f\"\\n\\nOrigin of chef Brown's recipe:\\n\\n{decrypt()}\")"
   ]
  },
  {
   "cell_type": "markdown",
   "metadata": {
    "colab_type": "text",
    "id": "w-Ufy-lCOegB"
   },
   "source": [
    "## 2.5\n",
    "\n",
    "**What is the secret ingredient in Chef Brown's recipe?**"
   ]
  },
  {
   "cell_type": "markdown",
   "metadata": {
    "colab_type": "text",
    "id": "3PLSKV8XUZKx"
   },
   "source": [
    "**<span style = \"color: red\">(YOUR ANSWER HERE)</span>**"
   ]
  },
  {
   "cell_type": "markdown",
   "metadata": {
    "colab_type": "text",
    "id": "GVRqE5ahUZKz"
   },
   "source": [
    "# Question 3: History and Defenses\n",
    "\n",
    "The padding oracle that you've developed in this lab has been used in plenty of real-world attacks. The attack was first discovered (publicly) in 2002. Since 2002 is well within the era of the internet, you can find the paper published by the exploit's original authors [here](https://www.iacr.org/cryptodb/archive/2002/EUROCRYPT/2850/2850.pdf). Exploits were quickly engineered against all sorts of servers to great success.\n",
    "\n",
    "Fixes for this original attack \"fixed\" the vulnerability by simply stopping the server from directly telling users whether a message was padded correctly or not. But later attacks, in particular [lucky thirteen](https://arstechnica.com/information-technology/2013/02/lucky-thirteen-attack-snarfs-cookies-protected-by-ssl-encryption/), utilized the fact that a *timing* side-channel could let an attacker statistically infer when a padding was set correctly even without the server telling them explicitly. This illustrates how hard it is to avoid side-channel attacks and why we always prefer to use schemes which fail as safely as possible.\n",
    "\n",
    "For the most part, CBC padding oracle attacks have been patched, but there are notable circumstances in which they can still be used to great success. [Some attacks](https://en.wikipedia.org/wiki/POODLE) use the fact that users can request to use older versions of protocols for backwards compatibilty, which can directly enable old attacks to come back to life. And since implementing cryptography is *hard*, patches and fixes can result in the resurrection of previously-patched vulnerabilities. Check out [this](https://cve.mitre.org/cgi-bin/cvename.cgi?name=CVE-2016-2107) CVE, an ironic example of how a patch for lucky thirteen actually *enabled* a padding oracle attack.\n",
    "\n",
    "Now, let's explore a possible defense. Sending just a message encrypted with CBC mode guarantees us confidentiality if we use a secure block cipher, which we generally assume AES is. The lack of authentication and integrity checking mean that we as attackers are allowed to freely tamper with messages in order to decrypt them. It stands to reason that added some authentication and integrity checks would prevent us from successfully modifying messages for the server's examination. For simplicity, let's consider just two possible methods of achieving this: MAC-then-encrypt and encrypt-then-MAC, both with a secure MAC algorithm."
   ]
  },
  {
   "cell_type": "markdown",
   "metadata": {
    "colab_type": "text",
    "id": "UEyHdDAGOovy"
   },
   "source": [
    "## 3.1\n",
    "\n",
    "Does MAC-then-encrypt prevent users from exploiting our padding oracle attack? If yes, explain why. If not, explain how to modify the attack so that it still works."
   ]
  },
  {
   "cell_type": "markdown",
   "metadata": {
    "colab_type": "text",
    "id": "iOq-AEmQUZK0"
   },
   "source": [
    "**<span style = \"color: red\">(YOUR ANSWER HERE)</span>**"
   ]
  },
  {
   "cell_type": "markdown",
   "metadata": {
    "colab_type": "text",
    "id": "jR4laxAWUZK1"
   },
   "source": [
    "## 3.2\n",
    "\n",
    "Does encrypt-then-MAC prevent users from exploiting our padding oracle attack? If yes, explain why. If not, explain how to modify the attack so that it still works."
   ]
  },
  {
   "cell_type": "markdown",
   "metadata": {
    "colab_type": "text",
    "id": "aYy7Rl2BUZK2"
   },
   "source": [
    "**<span style = \"color: red\">(YOUR ANSWER HERE)</span>**"
   ]
  },
  {
   "cell_type": "markdown",
   "metadata": {},
   "source": [
    "# Submission\n",
    "\n",
    "Submit your finished `.ipynb` notebook to the lab autograder on Gradescope. Make sure to save the notebook before you upload it!"
   ]
  }
 ],
 "metadata": {
  "anaconda-cloud": {},
  "colab": {
   "name": "padding_oracle_attack.ipynb",
   "provenance": []
  },
  "kernelspec": {
   "display_name": "Python 3 (ipykernel)",
   "language": "python",
   "name": "python3"
  },
  "language_info": {
   "codemirror_mode": {
    "name": "ipython",
    "version": 3
   },
   "file_extension": ".py",
   "mimetype": "text/x-python",
   "name": "python",
   "nbconvert_exporter": "python",
   "pygments_lexer": "ipython3",
   "version": "3.10.6"
  },
  "vscode": {
   "interpreter": {
    "hash": "aee8b7b246df8f9039afb4144a1f6fd8d2ca17a180786b69acc140d282b71a49"
   }
  }
 },
 "nbformat": 4,
 "nbformat_minor": 4
}
